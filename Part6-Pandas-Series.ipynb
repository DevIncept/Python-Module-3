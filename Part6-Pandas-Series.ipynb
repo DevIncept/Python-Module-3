{
 "cells": [
  {
   "cell_type": "markdown",
   "metadata": {},
   "source": [
    "# Pandas Series\n",
    "## Creating a Pandas Series\n",
    "**Creating a series from array**"
   ]
  },
  {
   "cell_type": "code",
   "execution_count": 15,
   "metadata": {},
   "outputs": [
    {
     "name": "stdout",
     "output_type": "stream",
     "text": [
      "0    g\n",
      "1    e\n",
      "2    e\n",
      "3    k\n",
      "4    s\n",
      "dtype: object\n"
     ]
    }
   ],
   "source": [
    "# import pandas as pd\n",
    "import pandas as pd\n",
    " \n",
    "# import numpy as np\n",
    "import numpy as np\n",
    " \n",
    "# simple array\n",
    "data = np.array(['g','e','e','k','s'])\n",
    " \n",
    "ser = pd.Series(data)\n",
    "print(ser)"
   ]
  },
  {
   "cell_type": "markdown",
   "metadata": {},
   "source": [
    "**Creating a series from Lists**"
   ]
  },
  {
   "cell_type": "code",
   "execution_count": 16,
   "metadata": {},
   "outputs": [
    {
     "name": "stdout",
     "output_type": "stream",
     "text": [
      "0    g\n",
      "1    e\n",
      "2    e\n",
      "3    k\n",
      "4    s\n",
      "dtype: object\n"
     ]
    }
   ],
   "source": [
    "import pandas as pd\n",
    " \n",
    "# a simple list\n",
    "list = ['g', 'e', 'e', 'k', 's']\n",
    "  \n",
    "# create series form a list\n",
    "ser = pd.Series(list)\n",
    "print(ser)"
   ]
  },
  {
   "cell_type": "markdown",
   "metadata": {},
   "source": [
    "## Accessing element of Series\n",
    "**Accessing Element from Series with Position**"
   ]
  },
  {
   "cell_type": "code",
   "execution_count": 17,
   "metadata": {},
   "outputs": [
    {
     "name": "stdout",
     "output_type": "stream",
     "text": [
      "0    g\n",
      "1    e\n",
      "2    e\n",
      "3    k\n",
      "4    s\n",
      "dtype: object\n"
     ]
    }
   ],
   "source": [
    "# import pandas and numpy \n",
    "import pandas as pd\n",
    "import numpy as np\n",
    " \n",
    "# creating simple array\n",
    "data = np.array(['g', 'e', 'e', 'k', 's', 'f', 'o', 'r', 'g', 'e', 'e', 'k', 's'])\n",
    "ser = pd.Series(data)\n",
    "  \n",
    "#retrieve the first element\n",
    "print(ser[:5])"
   ]
  },
  {
   "cell_type": "markdown",
   "metadata": {},
   "source": [
    "**Accessing Element Using Label (index)**"
   ]
  },
  {
   "cell_type": "code",
   "execution_count": 18,
   "metadata": {},
   "outputs": [
    {
     "name": "stdout",
     "output_type": "stream",
     "text": [
      "o\n"
     ]
    }
   ],
   "source": [
    "# import pandas and numpy \n",
    "import pandas as pd\n",
    "import numpy as np\n",
    " \n",
    "# creating simple array\n",
    "data = np.array(['g', 'e', 'e', 'k', 's', 'f', 'o', 'r', 'g', 'e', 'e', 'k', 's'])\n",
    "ser = pd.Series(data,index=[10, 11, 12, 13, 14, 15, 16, 17, 18, 19, 20, 21, 22])\n",
    "  \n",
    "# accessing a element using index element\n",
    "print(ser[16])"
   ]
  },
  {
   "cell_type": "markdown",
   "metadata": {},
   "source": [
    "## Indexing and Selecting Data in Series\n",
    "**Indexing a Series using indexing operator []**"
   ]
  },
  {
   "cell_type": "code",
   "execution_count": 19,
   "metadata": {},
   "outputs": [
    {
     "data": {
      "text/plain": [
       "0    Avery Bradley\n",
       "1      Jae Crowder\n",
       "2     John Holland\n",
       "3      R.J. Hunter\n",
       "4    Jonas Jerebko\n",
       "5     Amir Johnson\n",
       "6    Jordan Mickey\n",
       "7     Kelly Olynyk\n",
       "8     Terry Rozier\n",
       "9     Marcus Smart\n",
       "Name: Name, dtype: object"
      ]
     },
     "execution_count": 19,
     "metadata": {},
     "output_type": "execute_result"
    }
   ],
   "source": [
    "# importing pandas module  \n",
    "import pandas as pd  \n",
    "     \n",
    "# making data frame  \n",
    "df = pd.read_csv(\"nba.csv\")  \n",
    "   \n",
    "ser = pd.Series(df['Name']) \n",
    "data = ser.head(10)\n",
    "data "
   ]
  },
  {
   "cell_type": "markdown",
   "metadata": {},
   "source": [
    "**Indexing a Series using .loc[]**"
   ]
  },
  {
   "cell_type": "code",
   "execution_count": 20,
   "metadata": {},
   "outputs": [
    {
     "data": {
      "text/plain": [
       "0    Avery Bradley\n",
       "1      Jae Crowder\n",
       "2     John Holland\n",
       "3      R.J. Hunter\n",
       "4    Jonas Jerebko\n",
       "5     Amir Johnson\n",
       "6    Jordan Mickey\n",
       "7     Kelly Olynyk\n",
       "8     Terry Rozier\n",
       "9     Marcus Smart\n",
       "Name: Name, dtype: object"
      ]
     },
     "execution_count": 20,
     "metadata": {},
     "output_type": "execute_result"
    }
   ],
   "source": [
    "# importing pandas module  \n",
    "import pandas as pd  \n",
    "     \n",
    "# making data frame  \n",
    "df = pd.read_csv(\"nba.csv\")  \n",
    "   \n",
    "ser = pd.Series(df['Name']) \n",
    "data = ser.head(10)\n",
    "data "
   ]
  },
  {
   "cell_type": "markdown",
   "metadata": {},
   "source": [
    "**Indexing a Series using .iloc[]**"
   ]
  },
  {
   "cell_type": "code",
   "execution_count": 21,
   "metadata": {},
   "outputs": [
    {
     "data": {
      "text/plain": [
       "0    Avery Bradley\n",
       "1      Jae Crowder\n",
       "2     John Holland\n",
       "3      R.J. Hunter\n",
       "4    Jonas Jerebko\n",
       "5     Amir Johnson\n",
       "6    Jordan Mickey\n",
       "7     Kelly Olynyk\n",
       "8     Terry Rozier\n",
       "9     Marcus Smart\n",
       "Name: Name, dtype: object"
      ]
     },
     "execution_count": 21,
     "metadata": {},
     "output_type": "execute_result"
    }
   ],
   "source": [
    "# importing pandas module  \n",
    "import pandas as pd  \n",
    "     \n",
    "# making data frame  \n",
    "df = pd.read_csv(\"nba.csv\")  \n",
    "   \n",
    "ser = pd.Series(df['Name']) \n",
    "data = ser.head(10)\n",
    "data "
   ]
  },
  {
   "cell_type": "markdown",
   "metadata": {},
   "source": [
    "## Binary Operation on Series\n",
    "**Example #1**"
   ]
  },
  {
   "cell_type": "code",
   "execution_count": 22,
   "metadata": {},
   "outputs": [
    {
     "name": "stdout",
     "output_type": "stream",
     "text": [
      "a    5\n",
      "b    2\n",
      "c    3\n",
      "d    7\n",
      "dtype: int64 \n",
      "\n",
      " a    1\n",
      "b    6\n",
      "d    4\n",
      "e    9\n",
      "dtype: int64\n"
     ]
    }
   ],
   "source": [
    "# importing pandas module  \n",
    "import pandas as pd  \n",
    " \n",
    "# creating a series\n",
    "data = pd.Series([5, 2, 3,7], index=['a', 'b', 'c', 'd'])\n",
    " \n",
    "# creating a series\n",
    "data1 = pd.Series([1, 6, 4, 9], index=['a', 'b', 'd', 'e'])\n",
    " \n",
    "print(data, \"\\n\\n\", data1)"
   ]
  },
  {
   "cell_type": "markdown",
   "metadata": {},
   "source": [
    "**Example #2**"
   ]
  },
  {
   "cell_type": "code",
   "execution_count": 23,
   "metadata": {},
   "outputs": [
    {
     "name": "stdout",
     "output_type": "stream",
     "text": [
      "a    5\n",
      "b    2\n",
      "c    3\n",
      "d    7\n",
      "dtype: int64 \n",
      "\n",
      " a    1\n",
      "b    6\n",
      "d    4\n",
      "e    9\n",
      "dtype: int64\n"
     ]
    }
   ],
   "source": [
    "# importing pandas module  \n",
    "import pandas as pd  \n",
    " \n",
    "# creating a series\n",
    "data = pd.Series([5, 2, 3,7], index=['a', 'b', 'c', 'd'])\n",
    " \n",
    "# creating a series\n",
    "data1 = pd.Series([1, 6, 4, 9], index=['a', 'b', 'd', 'e'])\n",
    " \n",
    "print(data, \"\\n\\n\", data1)"
   ]
  },
  {
   "cell_type": "markdown",
   "metadata": {},
   "source": [
    "## Conversion Operation on Series\n",
    "**Example #1**"
   ]
  },
  {
   "cell_type": "code",
   "execution_count": 24,
   "metadata": {},
   "outputs": [
    {
     "name": "stdout",
     "output_type": "stream",
     "text": [
      "BEFORE CONVERSION\n",
      " Name         object\n",
      "Team         object\n",
      "Number      float64\n",
      "Position     object\n",
      "Age         float64\n",
      "Height       object\n",
      "Weight      float64\n",
      "College      object\n",
      "Salary      float64\n",
      "dtype: object \n",
      "\n",
      "AFTER CONVERSION\n",
      " Name         object\n",
      "Team         object\n",
      "Number       object\n",
      "Position     object\n",
      "Age         float64\n",
      "Height       object\n",
      "Weight      float64\n",
      "College      object\n",
      "Salary        int64\n",
      "dtype: object \n",
      "\n"
     ]
    }
   ],
   "source": [
    "# importing pandas module  \n",
    "import pandas as pd \n",
    "   \n",
    "# reading csv file from url  \n",
    "data = pd.read_csv(\"nba.csv\") \n",
    "    \n",
    "# dropping null value columns to avoid errors \n",
    "data.dropna(inplace = True) \n",
    "   \n",
    "# storing dtype before converting \n",
    "before = data.dtypes \n",
    "   \n",
    "# converting dtypes using astype \n",
    "data[\"Salary\"]= data[\"Salary\"].astype(int) \n",
    "data[\"Number\"]= data[\"Number\"].astype(str) \n",
    "   \n",
    "# storing dtype after converting \n",
    "after = data.dtypes \n",
    "   \n",
    "# printing to compare \n",
    "print(\"BEFORE CONVERSION\\n\", before, \"\\n\") \n",
    "print(\"AFTER CONVERSION\\n\", after, \"\\n\") "
   ]
  },
  {
   "cell_type": "markdown",
   "metadata": {},
   "source": [
    "**Example #2**"
   ]
  },
  {
   "cell_type": "code",
   "execution_count": 25,
   "metadata": {},
   "outputs": [
    {
     "name": "stdout",
     "output_type": "stream",
     "text": [
      "Data type before converting = <class 'pandas.core.series.Series'>\n",
      "Data type after converting = <class 'list'>\n"
     ]
    },
    {
     "data": {
      "text/plain": [
       "[7730337.0,\n",
       " 6796117.0,\n",
       " 1148640.0,\n",
       " 1170960.0,\n",
       " 2165160.0,\n",
       " 1824360.0,\n",
       " 3431040.0,\n",
       " 2569260.0,\n",
       " 6912869.0,\n",
       " 3425510.0,\n",
       " 1749840.0,\n",
       " 2616975.0,\n",
       " 845059.0,\n",
       " 1500000.0,\n",
       " 1335480.0,\n",
       " 6300000.0,\n",
       " 134215.0,\n",
       " 1500000.0,\n",
       " 19689000.0,\n",
       " 1140240.0,\n",
       " 947276.0,\n",
       " 981348.0,\n",
       " 947276.0,\n",
       " 947276.0,\n",
       " 11235955.0,\n",
       " 8000000.0,\n",
       " 1635476.0,\n",
       " 22875000.0,\n",
       " 845059.0,\n",
       " 845059.0,\n",
       " 1572360.0,\n",
       " 12650000.0,\n",
       " 3750000.0,\n",
       " 1636842.0,\n",
       " 4000000.0,\n",
       " 167406.0,\n",
       " 947276.0,\n",
       " 1000000.0,\n",
       " 4626960.0,\n",
       " 845059.0,\n",
       " 1074169.0,\n",
       " 6500000.0,\n",
       " 2144772.0,\n",
       " 525093.0,\n",
       " 3457800.0,\n",
       " 4582680.0,\n",
       " 947276.0,\n",
       " 2869440.0,\n",
       " 947276.0,\n",
       " 525093.0,\n",
       " 13600000.0,\n",
       " 10050000.0,\n",
       " 2500000.0,\n",
       " 7000000.0,\n",
       " 12000000.0,\n",
       " 6268675.0,\n",
       " 650000.0,\n",
       " 3553917.0,\n",
       " 245177.0,\n",
       " 1509360.0,\n",
       " 3873398.0,\n",
       " 13800000.0,\n",
       " 947276.0,\n",
       " 11370786.0,\n",
       " 2008748.0,\n",
       " 14260870.0,\n",
       " 11710456.0,\n",
       " 1131960.0,\n",
       " 845059.0,\n",
       " 1270964.0,\n",
       " 3815000.0,\n",
       " 15501000.0,\n",
       " 1100602.0,\n",
       " 111444.0,\n",
       " 5675000.0,\n",
       " 525093.0,\n",
       " 9650000.0,\n",
       " 18907726.0,\n",
       " 1100602.0,\n",
       " 19689000.0,\n",
       " 947276.0,\n",
       " 21468695.0,\n",
       " 3376000.0,\n",
       " 7085000.0,\n",
       " 3110796.0,\n",
       " 1159680.0,\n",
       " 3000000.0,\n",
       " 845059.0,\n",
       " 700000.0,\n",
       " 845059.0,\n",
       " 15592217.0,\n",
       " 1724250.0,\n",
       " 1155600.0,\n",
       " 3132240.0,\n",
       " 5103120.0,\n",
       " 981348.0,\n",
       " 947276.0,\n",
       " 5219169.0,\n",
       " 13500000.0,\n",
       " 2127840.0,\n",
       " 206192.0,\n",
       " 1160160.0,\n",
       " 981348.0,\n",
       " 13500000.0,\n",
       " 3807120.0,\n",
       " 1035000.0,\n",
       " 55722.0,\n",
       " 947276.0,\n",
       " 5500000.0,\n",
       " 2041080.0,\n",
       " 83397.0,\n",
       " 981348.0,\n",
       " 1015421.0,\n",
       " 1449187.0,\n",
       " 3398280.0,\n",
       " 5013559.0,\n",
       " 15851950.0,\n",
       " 947276.0,\n",
       " 525093.0,\n",
       " 12403101.0,\n",
       " 7700000.0,\n",
       " 3156600.0,\n",
       " 845059.0,\n",
       " 9500000.0,\n",
       " 845059.0,\n",
       " 2250000.0,\n",
       " 16407500.0,\n",
       " 4500000.0,\n",
       " 8500000.0,\n",
       " 947276.0,\n",
       " 2380440.0,\n",
       " 1015421.0,\n",
       " 13400000.0,\n",
       " 1391160.0,\n",
       " 20093064.0,\n",
       " 1535880.0,\n",
       " 1147276.0,\n",
       " 8193029.0,\n",
       " 16407501.0,\n",
       " 947276.0,\n",
       " 947276.0,\n",
       " 1276000.0,\n",
       " 19689000.0,\n",
       " 111196.0,\n",
       " 8988765.0,\n",
       " 14260870.0,\n",
       " 2100000.0,\n",
       " 2500000.0,\n",
       " 6500000.0,\n",
       " 2170465.0,\n",
       " 111444.0,\n",
       " 1252440.0,\n",
       " 2891760.0,\n",
       " 845059.0,\n",
       " 3272091.0,\n",
       " 16000000.0,\n",
       " 600000.0,\n",
       " 13913044.0,\n",
       " 2841960.0,\n",
       " 6270000.0,\n",
       " 5000000.0,\n",
       " 3000000.0,\n",
       " 4050000.0,\n",
       " 1007026.0,\n",
       " 17120106.0,\n",
       " 8000000.0,\n",
       " 4000000.0,\n",
       " 1358880.0,\n",
       " 211744.0,\n",
       " 1100000.0,\n",
       " 7000000.0,\n",
       " 2357760.0,\n",
       " 845059.0,\n",
       " 1007026.0,\n",
       " 3000000.0,\n",
       " 2399040.0,\n",
       " 947276.0,\n",
       " 1662360.0,\n",
       " 2943221.0,\n",
       " 8000000.0,\n",
       " 14700000.0,\n",
       " 16407500.0,\n",
       " 295327.0,\n",
       " 845059.0,\n",
       " 5152440.0,\n",
       " 2109294.0,\n",
       " 6600000.0,\n",
       " 1733040.0,\n",
       " 1449000.0,\n",
       " 4290000.0,\n",
       " 1100602.0,\n",
       " 3950313.0,\n",
       " 4053446.0,\n",
       " 2085671.0,\n",
       " 16407500.0,\n",
       " 1270964.0,\n",
       " 15361500.0,\n",
       " 845059.0,\n",
       " 947276.0,\n",
       " 5378974.0,\n",
       " 8193030.0,\n",
       " 306527.0,\n",
       " 6486486.0,\n",
       " 8229375.0,\n",
       " 1646400.0,\n",
       " 200600.0,\n",
       " 15756438.0,\n",
       " 1000000.0,\n",
       " 2489530.0,\n",
       " 3189794.0,\n",
       " 947276.0,\n",
       " 1404600.0,\n",
       " 5158539.0,\n",
       " 5000000.0,\n",
       " 3542500.0,\n",
       " 4088019.0,\n",
       " 9588426.0,\n",
       " 700902.0,\n",
       " 845059.0,\n",
       " 1201440.0,\n",
       " 1230840.0,\n",
       " 9638555.0,\n",
       " 9000000.0,\n",
       " 5464000.0,\n",
       " 8500000.0,\n",
       " 1100602.0,\n",
       " 3036927.0,\n",
       " 2850000.0,\n",
       " 7070730.0,\n",
       " 169883.0,\n",
       " 1164858.0,\n",
       " 845059.0,\n",
       " 10734586.0,\n",
       " 845059.0,\n",
       " 1320000.0,\n",
       " 15514031.0,\n",
       " 1015421.0,\n",
       " 10595507.0,\n",
       " 55722.0,\n",
       " 3382023.0,\n",
       " 19689000.0,\n",
       " 1142880.0,\n",
       " 947276.0,\n",
       " 5250000.0,\n",
       " 10000000.0,\n",
       " 16407500.0,\n",
       " 200600.0,\n",
       " 250750.0,\n",
       " 3578947.0,\n",
       " 525093.0,\n",
       " 1499187.0,\n",
       " 2000000.0,\n",
       " 1304520.0,\n",
       " 2854940.0,\n",
       " 12000000.0,\n",
       " 1000000.0,\n",
       " 5746479.0,\n",
       " 18671659.0,\n",
       " 947276.0,\n",
       " 525093.0,\n",
       " 3333333.0,\n",
       " 8000000.0,\n",
       " 947276.0,\n",
       " 189455.0,\n",
       " 947276.0,\n",
       " 525093.0,\n",
       " 6110034.0,\n",
       " 2612520.0,\n",
       " 6331404.0,\n",
       " 3034356.0,\n",
       " 5675000.0,\n",
       " 2139000.0,\n",
       " 12000000.0,\n",
       " 7000000.0,\n",
       " 4204200.0,\n",
       " 22192730.0,\n",
       " 10151612.0,\n",
       " 2854940.0,\n",
       " 261894.0,\n",
       " 845059.0,\n",
       " 5543725.0,\n",
       " 525093.0,\n",
       " 20000000.0,\n",
       " 981348.0,\n",
       " 2481720.0,\n",
       " 947276.0,\n",
       " 4171680.0,\n",
       " 845059.0,\n",
       " 1294440.0,\n",
       " 2380593.0,\n",
       " 5192520.0,\n",
       " 2505720.0,\n",
       " 4300000.0,\n",
       " 11250000.0,\n",
       " 5000000.0,\n",
       " 4000000.0,\n",
       " 5694674.0,\n",
       " 4375000.0,\n",
       " 561716.0,\n",
       " 3300000.0,\n",
       " 273038.0,\n",
       " 8000000.0,\n",
       " 1920240.0,\n",
       " 4662960.0,\n",
       " 2170465.0,\n",
       " 1100602.0,\n",
       " 200600.0,\n",
       " 15851950.0,\n",
       " 2814000.0,\n",
       " 3000000.0,\n",
       " 3533333.0,\n",
       " 10449438.0,\n",
       " 11235955.0,\n",
       " 1584480.0,\n",
       " 947276.0,\n",
       " 4345000.0,\n",
       " 258489.0,\n",
       " 1474440.0,\n",
       " 1282080.0,\n",
       " 2148360.0,\n",
       " 2056920.0,\n",
       " 1938840.0,\n",
       " 947276.0,\n",
       " 5703600.0,\n",
       " 5758680.0,\n",
       " 2279040.0,\n",
       " 3750000.0,\n",
       " 20158622.0,\n",
       " 3135000.0,\n",
       " 1140240.0,\n",
       " 16407500.0,\n",
       " 1463040.0,\n",
       " 222888.0,\n",
       " 3344000.0,\n",
       " 2021520.0,\n",
       " 1210800.0,\n",
       " 4500000.0,\n",
       " 5138430.0,\n",
       " 16744218.0,\n",
       " 525093.0,\n",
       " 8042895.0,\n",
       " 625093.0,\n",
       " 947276.0,\n",
       " 6980802.0,\n",
       " 2894059.0,\n",
       " 6000000.0,\n",
       " 5016000.0,\n",
       " 3075880.0,\n",
       " 4236287.0,\n",
       " 2525160.0,\n",
       " 525093.0,\n",
       " 1415520.0,\n",
       " 2854940.0,\n",
       " 2637720.0,\n",
       " 4775000.0,\n",
       " 2658240.0,\n",
       " 9463484.0,\n",
       " 12000000.0,\n",
       " 15409570.0,\n",
       " 1348440.0,\n",
       " 981348.0,\n",
       " 2239800.0,\n",
       " 2433333.0,\n",
       " 947276.0]"
      ]
     },
     "execution_count": 25,
     "metadata": {},
     "output_type": "execute_result"
    }
   ],
   "source": [
    "# importing pandas module  \n",
    "import pandas as pd  \n",
    "   \n",
    "# importing regex module \n",
    "import re \n",
    "     \n",
    "# making data frame  \n",
    "data = pd.read_csv(\"nba.csv\")  \n",
    "     \n",
    "# removing null values to avoid errors  \n",
    "data.dropna(inplace = True)  \n",
    "   \n",
    "# storing dtype before operation \n",
    "dtype_before = type(data[\"Salary\"]) \n",
    "   \n",
    "# converting to list \n",
    "salary_list = data[\"Salary\"].tolist() \n",
    "   \n",
    "# storing dtype after operation \n",
    "dtype_after = type(salary_list) \n",
    "   \n",
    "# printing dtype \n",
    "print(\"Data type before converting = {}\\nData type after converting = {}\"\n",
    "      .format(dtype_before, dtype_after)) \n",
    "   \n",
    "# displaying list \n",
    "salary_list "
   ]
  },
  {
   "cell_type": "markdown",
   "metadata": {},
   "source": [
    "**The data which is being used in the above examples are stored in two fies:**\n",
    "* nba.csv\n",
    "* pokemon.csv<br>"
   ]
  },
  {
   "cell_type": "markdown",
   "metadata": {},
   "source": [
    "**However, you can choose data as per your choice**\n",
    "\n",
    "## Again you can change the code and play with it as much as you want !!!"
   ]
  }
 ],
 "metadata": {
  "kernelspec": {
   "display_name": "Python 3",
   "language": "python",
   "name": "python3"
  },
  "language_info": {
   "codemirror_mode": {
    "name": "ipython",
    "version": 3
   },
   "file_extension": ".py",
   "mimetype": "text/x-python",
   "name": "python",
   "nbconvert_exporter": "python",
   "pygments_lexer": "ipython3",
   "version": "3.6.5"
  }
 },
 "nbformat": 4,
 "nbformat_minor": 4
}
