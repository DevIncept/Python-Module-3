{
 "cells": [
  {
   "cell_type": "markdown",
   "metadata": {
    "colab_type": "text",
    "id": "qrTm0hIO-Vnp"
   },
   "source": [
    "# **Numpy Functions**"
   ]
  },
  {
   "cell_type": "markdown",
   "metadata": {
    "colab_type": "text",
    "id": "T_TIbFSy-bJm"
   },
   "source": [
    "## **NumPy Array Shape**"
   ]
  },
  {
   "cell_type": "code",
   "execution_count": 12,
   "metadata": {
    "colab": {
     "base_uri": "https://localhost:8080/",
     "height": 51
    },
    "colab_type": "code",
    "id": "1fYpP4eD-nJO",
    "outputId": "6f852d60-6104-492d-a6cf-cc564abf8644"
   },
   "outputs": [
    {
     "name": "stdout",
     "output_type": "stream",
     "text": [
      "(2, 4)\n",
      "(4,)\n"
     ]
    }
   ],
   "source": [
    "   import numpy as np\n",
    "   arr = np.array([[1, 2, 3, 4], [5, 6, 7, 8]])\n",
    "   arr1= np.array([1,2,3,4])\n",
    "\n",
    "   print(arr.shape)\n",
    "   print(arr1.shape)"
   ]
  },
  {
   "cell_type": "markdown",
   "metadata": {
    "colab_type": "text",
    "id": "DaqvlyT0-sil"
   },
   "source": [
    "**All in One Example**"
   ]
  },
  {
   "cell_type": "code",
   "execution_count": 16,
   "metadata": {
    "colab": {
     "base_uri": "https://localhost:8080/",
     "height": 68
    },
    "colab_type": "code",
    "id": "CMAx1fkN-v4x",
    "outputId": "c10ce9d0-a00a-4ab8-d14a-b05a179a8865"
   },
   "outputs": [
    {
     "name": "stdout",
     "output_type": "stream",
     "text": [
      "No of dimensions of the array: 3\n",
      "Total no of elements of the array: 24\n",
      "Shape of the array: (3, 2, 4)\n"
     ]
    }
   ],
   "source": [
    "   array_example = np.array([[[0, 1, 2, 3],\n",
    "                            [4, 5, 6, 7]],\n",
    "\n",
    "                           [[0, 1, 2, 3],\n",
    "                            [4, 5, 6, 7]],\n",
    "\n",
    "                           [[0 ,1 ,2, 3],\n",
    "                            [4, 5, 6, 7]]])\n",
    " \n",
    "   print('No of dimensions of the array:',array_example.ndim)     # .ndim for dimensions\n",
    "   print('Total no of elements of the array:',array_example.size) # .size for size\n",
    "   print('Shape of the array:',array_example.shape)                # .shape for shape"
   ]
  },
  {
   "cell_type": "markdown",
   "metadata": {
    "colab_type": "text",
    "id": "xS2Wz42v_pqo"
   },
   "source": [
    "## **NumPy Array Reshaping**"
   ]
  },
  {
   "cell_type": "markdown",
   "metadata": {
    "colab_type": "text",
    "id": "8raKPv4__z7h"
   },
   "source": [
    "**Reshape from 1-Dimensional to 2-Dimensional**"
   ]
  },
  {
   "cell_type": "code",
   "execution_count": 17,
   "metadata": {
    "colab": {
     "base_uri": "https://localhost:8080/",
     "height": 136
    },
    "colab_type": "code",
    "id": "oam8dZQH_7-v",
    "outputId": "93264028-ed77-40d7-a213-e444d39f8bee"
   },
   "outputs": [
    {
     "name": "stdout",
     "output_type": "stream",
     "text": [
      "[[ 1  2  3]\n",
      " [ 4  5  6]\n",
      " [ 7  8  9]\n",
      " [10 11 12]]\n",
      "[['D' 'e' 'V']\n",
      " ['I' 'n' 'c']\n",
      " ['e' 'p' 't']]\n"
     ]
    }
   ],
   "source": [
    "   import numpy as np\n",
    "   arr1 = np.array([1, 2, 3, 4, 5, 6, 7, 8, 9, 10, 11, 12])\n",
    "   newarr1 = arr1.reshape(4, 3)\n",
    "   arr2 = np.array(['D','e','V','I','n','c','e','p','t'])\n",
    "   newarr2 = arr2.reshape(3,3)\n",
    "   print(newarr1)\n",
    "   print(newarr2)"
   ]
  },
  {
   "cell_type": "markdown",
   "metadata": {
    "colab_type": "text",
    "id": "Mgk1bM2_AG-U"
   },
   "source": [
    "**Reshape from 1-Dimensional to 3-Dimensional**"
   ]
  },
  {
   "cell_type": "code",
   "execution_count": 18,
   "metadata": {
    "colab": {
     "base_uri": "https://localhost:8080/",
     "height": 136
    },
    "colab_type": "code",
    "id": "AMlf27XvAGLB",
    "outputId": "01d78258-528b-4721-fb7c-f5b0ae48d7b9"
   },
   "outputs": [
    {
     "name": "stdout",
     "output_type": "stream",
     "text": [
      "[[[ 1  2]\n",
      "  [ 3  4]\n",
      "  [ 5  6]]\n",
      "\n",
      " [[ 7  8]\n",
      "  [ 9 10]\n",
      "  [11 12]]]\n"
     ]
    }
   ],
   "source": [
    "   import numpy as np\n",
    "   arr = np.array([1, 2, 3, 4, 5, 6, 7, 8, 9, 10, 11, 12])\n",
    "   newarr = arr.reshape(2, 3, 2)\n",
    "   print(newarr)"
   ]
  },
  {
   "cell_type": "markdown",
   "metadata": {
    "colab_type": "text",
    "id": "oIfG5wuiARMw"
   },
   "source": [
    "**Multi-Dimensional Array into 1-Dimensional Array**"
   ]
  },
  {
   "cell_type": "code",
   "execution_count": 19,
   "metadata": {
    "colab": {
     "base_uri": "https://localhost:8080/",
     "height": 34
    },
    "colab_type": "code",
    "id": "mDfVsh4DAX9E",
    "outputId": "170f04ae-e332-47ff-d086-3907560fa22e"
   },
   "outputs": [
    {
     "name": "stdout",
     "output_type": "stream",
     "text": [
      "[1 2 3 4 5 6]\n"
     ]
    }
   ],
   "source": [
    "   import numpy as np\n",
    "   arr = np.array([[1, 2, 3], [4, 5, 6]])\n",
    "   newarr = arr.reshape(-1)\n",
    "   print(newarr)"
   ]
  },
  {
   "cell_type": "markdown",
   "metadata": {
    "colab_type": "text",
    "id": "HsOUztvfAeQG"
   },
   "source": [
    "## **NumPy Sorting and Searching**"
   ]
  },
  {
   "cell_type": "markdown",
   "metadata": {
    "colab_type": "text",
    "id": "VYLW04h7AiPr"
   },
   "source": [
    "### **NumPy Sorting**"
   ]
  },
  {
   "cell_type": "code",
   "execution_count": 20,
   "metadata": {
    "colab": {
     "base_uri": "https://localhost:8080/",
     "height": 85
    },
    "colab_type": "code",
    "id": "yevX-WhxApT8",
    "outputId": "7274deb1-68c9-4c14-cec1-8d6abd4dff9a"
   },
   "outputs": [
    {
     "name": "stdout",
     "output_type": "stream",
     "text": [
      "[0 1 2 3]\n",
      "['blue' 'green' 'red']\n",
      "[[2 3 4]\n",
      " [0 1 5]]\n"
     ]
    }
   ],
   "source": [
    "   import numpy as np\n",
    "   arr1 = np.array([3, 2, 0, 1])\n",
    "   arr2 = np.array(['red','blue','green'])\n",
    "   \n",
    "   # 2-D array\n",
    "   arr3 = np.array([[3, 2, 4], [5, 0, 1]])\n",
    "   \n",
    "   print(np.sort(arr1))\n",
    "   print(np.sort(arr2))\n",
    "   print(np.sort(arr3))"
   ]
  },
  {
   "cell_type": "markdown",
   "metadata": {
    "colab_type": "text",
    "id": "oX7tR9X7AuVv"
   },
   "source": [
    "### **NumPy Searching**"
   ]
  },
  {
   "cell_type": "markdown",
   "metadata": {
    "colab_type": "text",
    "id": "5m-s-Na4A2Cs"
   },
   "source": [
    "**where() :**"
   ]
  },
  {
   "cell_type": "code",
   "execution_count": 21,
   "metadata": {
    "colab": {
     "base_uri": "https://localhost:8080/",
     "height": 68
    },
    "colab_type": "code",
    "id": "wdbB1-ZwAxlY",
    "outputId": "dd3252fb-7c1c-48ef-96ee-2ac345e407fc"
   },
   "outputs": [
    {
     "name": "stdout",
     "output_type": "stream",
     "text": [
      "(array([3, 5, 6]),)\n",
      "(array([1, 3, 5, 6]),)\n",
      "(array([0, 2, 4]),)\n"
     ]
    }
   ],
   "source": [
    "   import numpy as np\n",
    "   arr1 = np.array([1, 2, 3, 4, 5, 4, 4])\n",
    "   x = np.where(arr1 == 4)\n",
    "   y = np.where(arr1%2 == 0)\n",
    "   z = np.where(arr1%2 == 1)\n",
    "   print(x)\n",
    "   print(y)\n",
    "   print(z)"
   ]
  },
  {
   "cell_type": "markdown",
   "metadata": {
    "colab_type": "text",
    "id": "Fd5_Dqq4A5u3"
   },
   "source": [
    "**searchsorted() :**"
   ]
  },
  {
   "cell_type": "code",
   "execution_count": 22,
   "metadata": {
    "colab": {
     "base_uri": "https://localhost:8080/",
     "height": 51
    },
    "colab_type": "code",
    "id": "nAX3a2a4A4iW",
    "outputId": "0b7f2274-7249-4488-94b3-2ccd590fddf1"
   },
   "outputs": [
    {
     "name": "stdout",
     "output_type": "stream",
     "text": [
      "1\n",
      "[1 2 3]\n"
     ]
    }
   ],
   "source": [
    "   import numpy as np\n",
    "   arr1 = np.array([6, 7, 8, 9])\n",
    "   x = np.searchsorted(arr1, 7)\n",
    "   print(x)\n",
    "   \n",
    "   # Multiple values\n",
    "   arr2 = np.array([1, 3, 5, 7])\n",
    "   y = np.searchsorted(arr2, [2, 4, 6])\n",
    "   print(y)"
   ]
  },
  {
   "cell_type": "markdown",
   "metadata": {
    "colab_type": "text",
    "id": "-e06TgWUBI9e"
   },
   "source": [
    "## **Mean, Median, Mode**"
   ]
  },
  {
   "cell_type": "markdown",
   "metadata": {
    "colab_type": "text",
    "id": "qAb3kEOSBMtT"
   },
   "source": [
    "### **Mean**"
   ]
  },
  {
   "cell_type": "code",
   "execution_count": 23,
   "metadata": {
    "colab": {
     "base_uri": "https://localhost:8080/",
     "height": 34
    },
    "colab_type": "code",
    "id": "afrWai0bBPyD",
    "outputId": "0117a3b1-541b-448c-f5c0-4c7a8bac6377"
   },
   "outputs": [
    {
     "name": "stdout",
     "output_type": "stream",
     "text": [
      "21.583333333333332\n"
     ]
    }
   ],
   "source": [
    "   import numpy as np\n",
    "   arr=np.array([19,13,18,21,44,17,12,31,37,8,12,27])\n",
    "   x=np.mean(arr)\n",
    "   print(x)"
   ]
  },
  {
   "cell_type": "markdown",
   "metadata": {
    "colab_type": "text",
    "id": "mEIDbq8nBULu"
   },
   "source": [
    "### **Median**"
   ]
  },
  {
   "cell_type": "code",
   "execution_count": 24,
   "metadata": {
    "colab": {
     "base_uri": "https://localhost:8080/",
     "height": 51
    },
    "colab_type": "code",
    "id": "8bFk1NsvBcEd",
    "outputId": "cbb4384b-d9df-4502-9b61-7ce503981ccc"
   },
   "outputs": [
    {
     "name": "stdout",
     "output_type": "stream",
     "text": [
      "87.0\n",
      "86.5\n"
     ]
    }
   ],
   "source": [
    "   import numpy\n",
    "   # For one value in the middle\n",
    "   speed = [99,86,87,88,111,86,103,87,94,78,77,85,86]\n",
    "   x = numpy.median(speed)\n",
    "   print(x)\n",
    "   \n",
    "   # For two values in the middle\n",
    "   speed1 = [99,86,87,88,86,103,87,94,78,77,85,86]\n",
    "   y = numpy.median(speed1)\n",
    "   print(y)"
   ]
  },
  {
   "cell_type": "markdown",
   "metadata": {
    "colab_type": "text",
    "id": "SFjFWDmrBgZD"
   },
   "source": [
    "### **Mode**"
   ]
  },
  {
   "cell_type": "code",
   "execution_count": 25,
   "metadata": {
    "colab": {
     "base_uri": "https://localhost:8080/",
     "height": 34
    },
    "colab_type": "code",
    "id": "_US_V68hBmou",
    "outputId": "0b4b566e-b264-47a7-e4a8-bf07582d3903"
   },
   "outputs": [
    {
     "name": "stdout",
     "output_type": "stream",
     "text": [
      "ModeResult(mode=array([86]), count=array([3]))\n"
     ]
    }
   ],
   "source": [
    "   from scipy import stats\n",
    "   speed = [99,86,87,88,111,86,103,87,94,78,77,85,86]\n",
    "   x = stats.mode(speed)\n",
    "   print(x)"
   ]
  },
  {
   "cell_type": "markdown",
   "metadata": {
    "colab_type": "text",
    "id": "gExfQdSiBuxX"
   },
   "source": [
    "## **Standard Deviation (σ)**"
   ]
  },
  {
   "cell_type": "code",
   "execution_count": 26,
   "metadata": {
    "colab": {
     "base_uri": "https://localhost:8080/",
     "height": 51
    },
    "colab_type": "code",
    "id": "t43odpbmB1zQ",
    "outputId": "f236a788-bfd6-417b-f18b-0032f0af7e6a"
   },
   "outputs": [
    {
     "name": "stdout",
     "output_type": "stream",
     "text": [
      "0.9035079029052513\n",
      "37.84501153334721\n"
     ]
    }
   ],
   "source": [
    "   import numpy\n",
    "   speed = [86,87,88,86,87,85,86]\n",
    "   x = numpy.std(speed)\n",
    "   print(x)\n",
    "   \n",
    "   speed1 = [32,111,138,28,59,77,97]\n",
    "   y = numpy.std(speed1)\n",
    "   print(y)"
   ]
  },
  {
   "cell_type": "markdown",
   "metadata": {
    "colab_type": "text",
    "id": "qq6_PKnWB65t"
   },
   "source": [
    "# **Practice all you want and play with the code as much as you want..**\n"
   ]
  }
 ],
 "metadata": {
  "colab": {
   "name": "Untitled3.ipynb",
   "provenance": []
  },
  "kernelspec": {
   "display_name": "Python 3",
   "language": "python",
   "name": "python3"
  },
  "language_info": {
   "codemirror_mode": {
    "name": "ipython",
    "version": 3
   },
   "file_extension": ".py",
   "mimetype": "text/x-python",
   "name": "python",
   "nbconvert_exporter": "python",
   "pygments_lexer": "ipython3",
   "version": "3.6.5"
  }
 },
 "nbformat": 4,
 "nbformat_minor": 1
}
