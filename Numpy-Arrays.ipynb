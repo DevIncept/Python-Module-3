{
 "cells": [
  {
   "cell_type": "markdown",
   "metadata": {
    "colab_type": "text",
    "id": "nZRdGJy65I9c"
   },
   "source": [
    "# **NumPy Basics**\n"
   ]
  },
  {
   "cell_type": "markdown",
   "metadata": {
    "colab_type": "text",
    "id": "IuqSl-Yp5RDr"
   },
   "source": [
    "## **Creating a Basic Array**\n"
   ]
  },
  {
   "cell_type": "code",
   "execution_count": 1,
   "metadata": {
    "colab": {
     "base_uri": "https://localhost:8080/",
     "height": 85
    },
    "colab_type": "code",
    "id": "fvooP0X15BYH",
    "outputId": "3db419bb-c1c0-466c-8742-59ec515f00f3"
   },
   "outputs": [
    {
     "name": "stdout",
     "output_type": "stream",
     "text": [
      "[1 2 3]\n",
      "['a' 'b' 'c' 'd' 'e']\n",
      "[1 2 3 4 5]\n",
      "<class 'numpy.ndarray'>\n"
     ]
    }
   ],
   "source": [
    "   import numpy as np\n",
    "   arr1=np.array([1,2,3])\n",
    "   arr2=np.array(['a','b','c','d','e'])\n",
    "   arr3= np.array((1, 2, 3, 4, 5)) # You can also pass a tuple to creat an Array\n",
    "   print(arr1)\n",
    "   print(arr2)\n",
    "   print(arr3)\n",
    "   print(type(arr1))"
   ]
  },
  {
   "cell_type": "markdown",
   "metadata": {
    "colab_type": "text",
    "id": "lro9176r5uX8"
   },
   "source": [
    "Arrays using ***np.zeros(), np.ones(), np.arange()***"
   ]
  },
  {
   "cell_type": "code",
   "execution_count": 2,
   "metadata": {
    "colab": {
     "base_uri": "https://localhost:8080/",
     "height": 102
    },
    "colab_type": "code",
    "id": "cpTvrMpc6DF6",
    "outputId": "1ac6b116-53e0-45fe-a319-96bfc3ce269a"
   },
   "outputs": [
    {
     "name": "stdout",
     "output_type": "stream",
     "text": [
      "[0. 0. 0.]\n",
      "[1. 1. 1. 1. 1.]\n",
      "[0 1 2 3 4 5 6 7 8 9]\n",
      "[2 3 4 5 6 7 8]\n",
      "[1 3 5 7 9]\n"
     ]
    }
   ],
   "source": [
    "   import numpy as np\n",
    "   a=np.zeros(3)\n",
    "   b=np.ones(5)\n",
    "   c=np.arange(10)\n",
    "   d=np.arange(2,9)   # To specify start and stop\n",
    "   e=np.arange(1,10,2) # To specify start and stop with step size\n",
    "   print(a)\n",
    "   print(b)\n",
    "   print(c)\n",
    "   print(d)\n",
    "   print(e)"
   ]
  },
  {
   "cell_type": "markdown",
   "metadata": {
    "colab_type": "text",
    "id": "ZgpAKkfJ6VaO"
   },
   "source": [
    "## **NdArray (N-Dimensional Array)**"
   ]
  },
  {
   "cell_type": "markdown",
   "metadata": {
    "colab_type": "text",
    "id": "kqyrw5Gz6hFh"
   },
   "source": [
    " **A 2-Dimensional Array**"
   ]
  },
  {
   "cell_type": "code",
   "execution_count": 5,
   "metadata": {
    "colab": {
     "base_uri": "https://localhost:8080/",
     "height": 221
    },
    "colab_type": "code",
    "id": "9ZQaeKsm69yz",
    "outputId": "3d881694-ff37-42f1-e545-26a7289dc9b7"
   },
   "outputs": [
    {
     "name": "stdout",
     "output_type": "stream",
     "text": [
      "[[1 2 3]\n",
      " [4 5 6]]\n",
      "[[1 2 3]\n",
      " [4 5 6]\n",
      " [7 8 9]]\n",
      "[['a' 'b' 'c']\n",
      " ['d' 'e' 'f']]\n",
      "[[0. 0. 0.]\n",
      " [0. 0. 0.]\n",
      " [0. 0. 0.]]\n",
      "[[1 1]\n",
      " [1 1]]\n"
     ]
    }
   ],
   "source": [
    "   import numpy as np\n",
    "   arr1=np.array([[1,2,3],[4,5,6]])\n",
    "   arr2=np.array([[1,2,3],[4,5,6],[7,8,9]])\n",
    "   arr3=np.array([['a','b','c'],['d','e','f']])\n",
    "   \n",
    "   #creates a 3X3 array with all zeros\n",
    "   zeros=np.zeros((3,3))\n",
    "   \n",
    "   #creates a 2X2 array with all ones\n",
    "   ones=np.ones((2,2),dtype='int64')  #specify the type with (dtype) parameter \n",
    "   \n",
    "   print(arr1)\n",
    "   print(arr2)\n",
    "   print(arr3)\n",
    "   print(zeros)\n",
    "   print(ones)"
   ]
  },
  {
   "cell_type": "markdown",
   "metadata": {
    "colab_type": "text",
    "id": "9CrmsTfZ7JzM"
   },
   "source": [
    "NumPy provides some cool methods you can check the number of dimensions using ***ndim***"
   ]
  },
  {
   "cell_type": "code",
   "execution_count": 6,
   "metadata": {
    "colab": {
     "base_uri": "https://localhost:8080/",
     "height": 85
    },
    "colab_type": "code",
    "id": "nxCplbEd7LEf",
    "outputId": "90148302-5fc2-415b-808e-ef54f3cd0a28"
   },
   "outputs": [
    {
     "name": "stdout",
     "output_type": "stream",
     "text": [
      "0\n",
      "1\n",
      "2\n",
      "3\n"
     ]
    }
   ],
   "source": [
    "   import numpy as np\n",
    "\n",
    "   a = np.array(42)\n",
    "   b = np.array([1, 2, 3, 4, 5])\n",
    "   c = np.array([[1, 2, 3], [4, 5, 6]])\n",
    "   d = np.array([[[1, 2, 3], [4, 5, 6]], [[1, 2, 3], [4, 5, 6]]])\n",
    "\n",
    "   print(a.ndim)\n",
    "   print(b.ndim)\n",
    "   print(c.ndim)\n",
    "   print(d.ndim)"
   ]
  },
  {
   "cell_type": "markdown",
   "metadata": {
    "colab_type": "text",
    "id": "yPsSP0zW7bGq"
   },
   "source": [
    "**Basic Operations with Arrays**"
   ]
  },
  {
   "cell_type": "code",
   "execution_count": 7,
   "metadata": {
    "colab": {
     "base_uri": "https://localhost:8080/",
     "height": 136
    },
    "colab_type": "code",
    "id": "t9HppyiA7UKx",
    "outputId": "43ee7741-1152-4b31-c5f0-797ea96b48dc"
   },
   "outputs": [
    {
     "name": "stdout",
     "output_type": "stream",
     "text": [
      "[5 5 5 5]\n",
      "[3 3 3 3]\n",
      "[8 8 8 8]\n",
      "[2 2 2 2]\n",
      "[1.66666667 1.66666667 1.66666667 1.66666667]\n",
      "Adding one to all elements: [9 9 9 9]\n",
      "Subtracting one from all elements: [1 1 1 1]\n"
     ]
    }
   ],
   "source": [
    "   import numpy as np\n",
    "   arr1=np.array([5,5,5,5])\n",
    "   arr2=np.array([3,3,3,3])\n",
    "   c=arr1+arr2\n",
    "   d=arr1-arr2\n",
    "   e=arr1/arr2\n",
    "   print(arr1)\n",
    "   print(arr2)\n",
    "   print(c) # addition\n",
    "   print(d) # subtraction\n",
    "   print(e) # division\n",
    "   print(\"Adding one to all elements:\",c+1)\n",
    "   print(\"Subtracting one from all elements:\",d-1)"
   ]
  },
  {
   "cell_type": "markdown",
   "metadata": {
    "colab_type": "text",
    "id": "Gl-ASg4q9j6N"
   },
   "source": [
    "## **Array Indexing and Slicing**"
   ]
  },
  {
   "cell_type": "markdown",
   "metadata": {
    "colab_type": "text",
    "id": "iMTS3mZS9oaS"
   },
   "source": [
    "### **Array Indexing**"
   ]
  },
  {
   "cell_type": "code",
   "execution_count": 9,
   "metadata": {
    "colab": {
     "base_uri": "https://localhost:8080/",
     "height": 119
    },
    "colab_type": "code",
    "id": "-XzhAaZH9tfV",
    "outputId": "e8b5d068-74a0-41da-c388-318f0f2228c4"
   },
   "outputs": [
    {
     "name": "stdout",
     "output_type": "stream",
     "text": [
      "3\n",
      "4\n",
      "1\n",
      "D\n",
      "9\n",
      "9\n"
     ]
    }
   ],
   "source": [
    "   import numpy as np\n",
    "   arr1= np.array([3,2,3,4])\n",
    "   arr2= np.array([2,1,1,3])\n",
    "   arr3= np.array(['D','e','V','I','n','c','e','p','t'])\n",
    "   arr4= np.array([[1,2,3,4,5], [6,7,8,9,10]])\n",
    "   print(arr1[0]) # prints first element\n",
    "   print(arr1[-1]) # prints last element\n",
    "   print(arr2[2]) # prints third element\n",
    "   print(arr3[0]) # prints first element\n",
    "   print(arr4[1][3]) #prints 9\n",
    "   print(arr4[1,3]) # Or you can use this type "
   ]
  },
  {
   "cell_type": "markdown",
   "metadata": {
    "colab_type": "text",
    "id": "xC66jkkb-DHc"
   },
   "source": [
    "### **Array Slicing**"
   ]
  },
  {
   "cell_type": "code",
   "execution_count": 10,
   "metadata": {
    "colab": {
     "base_uri": "https://localhost:8080/",
     "height": 187
    },
    "colab_type": "code",
    "id": "uieObpRf-GEt",
    "outputId": "fc6d156f-9268-4c37-d4e3-5542ff89db8e"
   },
   "outputs": [
    {
     "name": "stdout",
     "output_type": "stream",
     "text": [
      "['D' 'e' 'V']\n",
      "['D' 'e' 'V']\n",
      "['I' 'n' 'c' 'e' 'p' 't']\n",
      "['D' 'V' 'n' 'e' 't']\n",
      "[6 7 8]\n",
      "[1 3 5 7 9]\n",
      "[7 8 9]\n",
      "[3 8]\n",
      "[[2 3 4]\n",
      " [7 8 9]]\n"
     ]
    }
   ],
   "source": [
    "   import numpy as np\n",
    "   arr1=np.array(['D','e','V','I','n','c','e','p','t'])\n",
    "   arr2=np.array([1,2,3,4,5,6,7,8,9])\n",
    "   \n",
    "   #2-D Slicing\n",
    "   arr3=np.array([[1, 2, 3, 4, 5], [6, 7, 8, 9, 10]])\n",
    "   \n",
    "   print(arr1[:3]) # default is taken as 0\n",
    "   print(arr1[0:3])\n",
    "   print(arr1[3:]) # taken till the end\n",
    "   print(arr1[::2])\n",
    "   \n",
    "   print(arr2[-4:-1])\n",
    "   print(arr2[::2]) # step size as 2\n",
    "   \n",
    "   # 2-D Slicing\n",
    "   print(arr3[1,1:4])\n",
    "   print(arr3[0:2, 2])\n",
    "   print(arr3[0:2, 1:4])"
   ]
  },
  {
   "cell_type": "markdown",
   "metadata": {
    "colab_type": "text",
    "id": "_L6HWD5g-MiQ"
   },
   "source": [
    "**All in One Example**"
   ]
  },
  {
   "cell_type": "code",
   "execution_count": 11,
   "metadata": {
    "colab": {
     "base_uri": "https://localhost:8080/",
     "height": 85
    },
    "colab_type": "code",
    "id": "vcoa3e6o-MDc",
    "outputId": "63bc86f2-7adf-4ede-e4ef-31720bdb48a2"
   },
   "outputs": [
    {
     "name": "stdout",
     "output_type": "stream",
     "text": [
      "2\n",
      "[1 2]\n",
      "[2 3]\n",
      "[2 3]\n"
     ]
    }
   ],
   "source": [
    "   import numpy as np\n",
    "   data = np.array([1, 2, 3])\n",
    "   print(data[1])\n",
    "   print(data[0:2])\n",
    "   print(data[1:])\n",
    "   print(data[-2:])"
   ]
  }
 ],
 "metadata": {
  "colab": {
   "name": "Untitled3.ipynb",
   "provenance": []
  },
  "kernelspec": {
   "display_name": "Python 3",
   "language": "python",
   "name": "python3"
  },
  "language_info": {
   "codemirror_mode": {
    "name": "ipython",
    "version": 3
   },
   "file_extension": ".py",
   "mimetype": "text/x-python",
   "name": "python",
   "nbconvert_exporter": "python",
   "pygments_lexer": "ipython3",
   "version": "3.6.5"
  }
 },
 "nbformat": 4,
 "nbformat_minor": 1
}
